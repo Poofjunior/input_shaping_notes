{
 "cells": [
  {
   "cell_type": "code",
   "execution_count": 1,
   "metadata": {},
   "outputs": [],
   "source": [
    "# Environment Setup\n",
    "import numpy as np\n",
    "import sympy as sp\n",
    "import matplotlib.pyplot as plt"
   ]
  },
  {
   "cell_type": "markdown",
   "metadata": {},
   "source": [
    "# Shaping Input Signals\n",
    "\n",
    "These notes are an extension of the [Input Shaping Tutorial](http://code.eng.buffalo.edu/tdf/papers/acc_tut.pdf) paper. I'd recommend starting with the first four pages (up through section 2.2) first and reading on for implemention tricks that apply to CNC gantry kinematics.\n",
    "\n",
    "The idea behind input shaping goes back to modeling a system as a second order damped harmonic oscillator. These systems oscillate in a decaying fashion in response to an impulse.\n",
    "\n",
    "These have a resonant natural frequency at $w_n$. If we plot the system's response to an impulse, we get damped harmonic oscillation over a period of time."
   ]
  },
  {
   "cell_type": "code",
   "execution_count": 2,
   "metadata": {},
   "outputs": [],
   "source": [
    "# TODO: impulse response graph"
   ]
  },
  {
   "cell_type": "markdown",
   "metadata": {},
   "source": [
    "Knowing that the response creates a damped oscillatory output, we can actually follow up our initial impulse response with a second impulse at a particular time and amplitude to completely cancel the system's oscillatory response."
   ]
  },
  {
   "cell_type": "code",
   "execution_count": 3,
   "metadata": {},
   "outputs": [],
   "source": [
    "# TODO: cancelling oscillations"
   ]
  },
  {
   "cell_type": "markdown",
   "metadata": {},
   "source": [
    "Rather than send impulses though, it would make more sense to send control signals that last for a finite amount of time. To do this, we simply take any desired input signal and convolve it with our two impulses above."
   ]
  },
  {
   "cell_type": "markdown",
   "metadata": {},
   "source": [
    "# From Impulse Control to Position Control\n",
    "So here's the big question: for a position-controlled stepper motor, what's the control input we actually want to convolve?\n",
    "\n",
    "Let's take a step back for a second and ask ourselves: what is an impulse? As it's being applied above, it's a force applied for an infinitesimal amount of time. This checks out with the [classical definition of an impulse](https://en.wikipedia.org/wiki/Impulse_(physics)), which is the integral of force over a time interval.\n",
    "\n",
    "But stepper motors are position-controlled, so how do we control it with force?\n",
    "\n",
    "Well, since $F = ma$, we \n",
    "\n",
    "Best guess: Acceleration. Since we control position, velocity, and acceleration, and since $F = ma$, it might make sense to convolve the input signal that is actually causing the system to move from rest. This also makes sense intuitively since we can't instantaneously change position."
   ]
  },
  {
   "cell_type": "code",
   "execution_count": 4,
   "metadata": {},
   "outputs": [
    {
     "data": {
      "image/png": "[encoded data removed]",
      "text/plain": [
       "<Figure size 432x288 with 1 Axes>"
      ]
     },
     "metadata": {
      "needs_background": "light"
     },
     "output_type": "display_data"
    }
   ],
   "source": [
    "# Params:\n",
    "w_n = 40 # Hz\n",
    "impulse_amplitudes = [0.4, 0.6] # Amplitudes of the two impulses. these should sum to 1.\n",
    "\n",
    "t_initial = 0\n",
    "t_final = 0.05\n",
    "t_step = 0.001\n",
    "\n",
    "t = np.arange(t_initial, t_final, t_step)\n",
    "input_a = np.ones(len(t))\n",
    "impulse_times = [0, 1.0/(2 * w_n)] # Second pulse is at the half period \n",
    "unity_impulses = np.zeros(round(1.0/(2 * w_n)/t_step))\n",
    "unity_impulses[0] = impulse_amplitudes[0]\n",
    "unity_impulses[-1] = impulse_amplitudes[1]\n",
    "\n",
    "# Create the shaped input signal by convolving with impulses\n",
    "shaped_input_a = np.convolve(input_a, unity_impulses)\n",
    "\n",
    "plt.plot(t, input_a, label = \"input_a\")\n",
    "plt.stem(t[:len(unity_impulses)], unity_impulses, label = \"unity impulses\")\n",
    "# Note: convolving the input signal returns a longer signal, so we need a new time array for it.\n",
    "plt.plot(np.arange(t_initial, len(shaped_input_a)*t_step, t_step), shaped_input_a, label = \"shaped_input_a\")\n",
    "plt.legend()\n",
    "plt.show()"
   ]
  },
  {
   "cell_type": "markdown",
   "metadata": {},
   "source": [
    "# Convolution Refresher and Speedups\n",
    "The above signal uses numpy's built-in convolution signal, which basically does this:\n",
    "$$(f * g)[n] = \\sum_{k = -\\infty}^{\\infty}f[k]g[n-k]$$\n",
    "Convolution is an $O(n^2)$ operation since every $f[k]$ needs to multiply across the whole signal $g[n]$ time shifted by $k$, i.e: $g[n-k]$.\n",
    "\n",
    "But when when one of the two signals we're convolving is an impulse, the math gets simpler.\n",
    "\n",
    "Suppose $f[n] = \\delta [n]$, i.e:\n",
    "$$f[n] =\n",
    "\\begin{cases} \n",
    "      1 & n = 0 \\\\\n",
    "      0 & n \\neq 0 \n",
    "\\end{cases}\n",
    "$$\n",
    "Then convolution with any function $g[n]$ just gives you $g[n]$ back like this:\n",
    "$$\n",
    "(f * g)[n] = f[0]g[n] = 1*g[n] = g[n]\n",
    "$$\n",
    "\n",
    "Now suppose $f[n]$ is actually a series of k impulses, each with their own corresponding magnitude and index, i.e:\n",
    "$$\n",
    "f[n] = \n",
    "\\begin{cases} \n",
    "      f_0 & n = n_0 \\\\\n",
    "      f_1 & n = n_1 \\\\\n",
    "      ... \\\\\n",
    "      f_k & n = n_k\\\\\n",
    "      0 & n \\notin \\{n_0, n_1, ..., n_k \\}\n",
    "\\end{cases}\n",
    "$$\n",
    "Then the convolution with $g[n]$ is just a summation of $k$ terms like this:\n",
    "$$\n",
    "(f * g)[n] = \n",
    "\\sum_{k = 0}^{n} f_k g[n - n_k]\n",
    "$$\n",
    "the equation above is a bit wonky, but keep in mind that $(n_0, f_0)$, $(n_1, f_1)$, ... are impulse magnitudes happening at index $n_i$.\n",
    "\n",
    "This might make more sense in the time domain:\n",
    "$$(f * g)(t) = \\sum_{k = 0}^{n} f(t_k) g(t - t_k)$$\n",
    "Note that since our function $f(t)$ is not continuous over any region, we don't need to do an integration; we simply sum up their discrete defined points.\n",
    "\n",
    "The effects of this reduction is pretty big! If we want to know the result of the convolution at time $t_i$, we just need to sum n multiplications. \n",
    "\n",
    "If $t_i = 0$, we get:\n",
    "$$(f * g)(0) = \\sum_{k = 0}^{n} f(t_k) g(-t_k)$$\n",
    "\n",
    "Knowing how convolution of any function with a series of impulses makes the math simpler lets us define a new convolution equation."
   ]
  },
  {
   "cell_type": "code",
   "execution_count": 5,
   "metadata": {},
   "outputs": [
    {
     "name": "stdout",
     "output_type": "stream",
     "text": [
      "f:   [0.4 0.  0.6]\n",
      "g:   [1. 1. 1. 1. 1. 1. 1. 1. 1. 1.]\n",
      "f*g: [0.4 0.4 1.  1.  1.  1.  1.  1.  1.  1.  0.6 0.6]\n"
     ]
    }
   ],
   "source": [
    "def impulse_sequence_conv(impulse_indices, impulse_magnitudes, g):\n",
    "    \"\"\"return the result of convolution between a sequence of impulses and g[n].\n",
    "    Input:\n",
    "        impulse_indices: list of indices indicating the index of the ith pulse in f[n]\n",
    "            i.e: such that f[impulse_indices[i]] = impulse_magnitude[i]\n",
    "        impulse_magnitudes: list of all nonzero pulse magnitudes in f[n]\n",
    "        g: list consisting of g[n], the second signal to convolve with.\n",
    "    \"\"\"\n",
    "    \n",
    "    assert len(impulse_indices) == len(impulse_magnitudes)\n",
    "    \n",
    "    # f has been compressed since the zeros betweeen pulses are not present.\n",
    "    len_f = impulse_indices[-1] - impulse_indices[0] + 1\n",
    "    \n",
    "    # Create storage container for resulting length of convoluted signal.\n",
    "    f_conv_g = np.zeros(len_f + len(g) - 1)\n",
    "    \n",
    "    # Do the convolution for every data pt.\n",
    "    for n in range(len(f_conv_g)):\n",
    "        result = 0\n",
    "        for k, f_k in zip(impulse_indices, impulse_magnitudes):\n",
    "            try:\n",
    "                if n - k < 0 or n - k > len(g) - 1:\n",
    "                    continue\n",
    "                #print(f\"n - k = {n-k}, \", end=\"\")\n",
    "                result += f_k * g[n - k]\n",
    "                #print(f\"+= {f_k * g[n-k]}\")\n",
    "            except IndexError as e:\n",
    "                print(e)\n",
    "        f_conv_g[n] = result\n",
    "    return f_conv_g\n",
    "\n",
    "\n",
    "# tests\n",
    "impulse_indices = [0, 2]\n",
    "impulse_magnitudes = [0.4, 0.6] # These should sum to 1.\n",
    "g = np.ones(10)\n",
    "\n",
    "# Reconstruct f for printing purposes\n",
    "f = np.zeros(impulse_indices[-1] - impulse_indices[0] + 1)\n",
    "for index, pulse_index in enumerate(impulse_indices):\n",
    "    f[pulse_index] = impulse_magnitudes[index]\n",
    "    \n",
    "print(f\"f:   {f}\")\n",
    "print(f\"g:   {g}\")\n",
    "print(f\"f*g: {impulse_sequence_conv(impulse_indices, impulse_magnitudes, g)}\")"
   ]
  },
  {
   "cell_type": "markdown",
   "metadata": {},
   "source": [
    "For our motion system, acceleration is constant. After we apply input shaping, however, it will appear as some sort of piecewise function."
   ]
  },
  {
   "cell_type": "markdown",
   "metadata": {},
   "source": [
    "# Convolution Alternatives\n",
    "\n",
    "Since we're working with position as a function of time, it would be handy if we didn't have to work backwards from acceleration.\n",
    "\n",
    "Suppose our impulse sequence is $f(t)$, and position, velocity, and acceleration are $x(t)$, $v(t)$, and $a(t)$ respectively.\n",
    "\n",
    "As presented above, we'd have to (1) convolve our pulse sequence with acceleration and then compute the resulting position using the shaped acceleration. But, because of [a handy convolution property](https://en.wikipedia.org/wiki/Convolution#Integration):\n",
    "$$\n",
    "\\int_{-\\infty}^{t} (f * a)(\\tau) d\\tau = f * \\int_{-\\infty}^{t} a(\\tau) d\\tau\n",
    "$$\n",
    "Then we can actually do this:\n",
    "$$\n",
    "(f * x)(t) = f * \\int_{-\\infty}^{t} \\int_{-\\infty}^{\\tau_2} a(\\tau_1) d\\tau_1 d\\tau_2\n",
    "$$\n",
    "\n",
    "What that means is that we don't need to start from convolved acceleration and work up to convolved position. We can convolve position directly! This might make the math easier in certain situations where nominal position at some point in time has already been computed.\n",
    "\n",
    "Let's prove this to ourselves by convolving our impulse sequence with acceleration signal and plotting the resulting position with convolving our impulse sequence with the position signal directly and leaving acceleration untouched.\n",
    "\n",
    "But first, an aside..."
   ]
  },
  {
   "cell_type": "markdown",
   "metadata": {},
   "source": [
    "# Classic Kinematics on a \"Move\"\n",
    "We'll define a \"move\" as a starting position, stopping position, entering velocity, cruise velocity, and exiting velocity. Acceleration is a constant that's either positive, zero, or negative depending on where we are in the move.\n",
    "\n",
    "If our starting and stopping velocities are zero, here's what our move might look like."
   ]
  },
  {
   "cell_type": "code",
   "execution_count": 6,
   "metadata": {
    "scrolled": true
   },
   "outputs": [
    {
     "name": "stdout",
     "output_type": "stream",
     "text": [
      "final x position: 2.000\n"
     ]
    },
    {
     "data": {
      "image/png": "[encoded data removed]",
      "text/plain": [
       "<Figure size 432x288 with 1 Axes>"
      ]
     },
     "metadata": {
      "needs_background": "light"
     },
     "output_type": "display_data"
    }
   ],
   "source": [
    "# Classic Kinematics Refresher with constant acceleration\n",
    "\n",
    "t_initial = 0\n",
    "t_final = 3\n",
    "t_step = 0.001\n",
    "\n",
    "t = sp.symbols('t')\n",
    "accel = 1\n",
    "initial_velocity = 0\n",
    "initial_position = 0\n",
    "\n",
    "a_of_t = sp.Piecewise((0, t < 0), \n",
    "                      (accel, t <= t_final/3), \n",
    "                      (0, t <= 2*(t_final/3)), \n",
    "                      (-accel, t <= t_final), \n",
    "                      (0, True))\n",
    "v_of_t = sp.integrate(a_of_t, (t, 0, t)) + initial_velocity\n",
    "x_of_t = sp.integrate(v_of_t) + initial_position\n",
    "\n",
    "# Make kinematics funcs callable\n",
    "a_func = sp.lambdify(t, a_of_t)\n",
    "v_func = sp.lambdify(t, v_of_t)\n",
    "x_func = sp.lambdify(t, x_of_t)\n",
    "\n",
    "time_series = np.arange(t_initial, t_final, t_step)\n",
    "\n",
    "a_series = [a_func(t) for t in time_series]\n",
    "v_series = [v_func(t) for t in time_series]\n",
    "x_series = [x_func(t) for t in time_series]\n",
    "\n",
    "plt.plot(time_series, x_series, label = \"x(t)\")\n",
    "plt.plot(time_series, v_series, label = \"v(t)\")\n",
    "plt.plot(time_series, a_series, label = \"a(t)\")\n",
    "plt.legend()\n",
    "print(f\"final x position: {x_series[-1] :.3f}\")\n"
   ]
  },
  {
   "cell_type": "markdown",
   "metadata": {},
   "source": [
    "Now let's take the above signal and convolve our impulse sequence with the acceleration signal from above."
   ]
  },
  {
   "cell_type": "code",
   "execution_count": 7,
   "metadata": {},
   "outputs": [
    {
     "name": "stdout",
     "output_type": "stream",
     "text": [
      "final x position: 1.987\n"
     ]
    },
    {
     "data": {
      "image/png": "[encoded data removed]",
      "text/plain": [
       "<Figure size 432x288 with 1 Axes>"
      ]
     },
     "metadata": {
      "needs_background": "light"
     },
     "output_type": "display_data"
    }
   ],
   "source": [
    "# This cell takes a sec to evaluate.\n",
    "w_n = 2 # Hz\n",
    "impulse_amplitudes = [0.6, 0.4] # Amplitudes of the two impulses. these should sum to 1.\n",
    "impulse_times = [0, 1.0/(2 * w_n)] # Second pulse is at the half period \n",
    "unity_impulses = np.zeros(round(1.0/(2 * w_n)/t_step))\n",
    "unity_impulses[0] = impulse_amplitudes[0]\n",
    "unity_impulses[-1] = impulse_amplitudes[1]\n",
    "\n",
    "# Convolve impulse sequence with our piecewise function using our \"fast convolution\" method.\n",
    "i_conv_a_of_t = impulse_amplitudes[0]*a_of_t.subs(t, t - impulse_times[0]) + \\\n",
    "                impulse_amplitudes[1]*a_of_t.subs(t, t - impulse_times[1])\n",
    "v_of_t = sp.integrate(i_conv_a_of_t, (t, 0, t)) + initial_velocity\n",
    "x_of_t = sp.integrate(v_of_t) + initial_position # this line takes a while.\n",
    "\n",
    "i_conv_a_func = sp.lambdify(t, i_conv_a_of_t)\n",
    "v_func = sp.lambdify(t, v_of_t)\n",
    "x_func = sp.lambdify(t, x_of_t)\n",
    "\n",
    "i_conv_a_series = [i_conv_a_func(t) for t in time_series]\n",
    "v_series = [v_func(t) for t in time_series]\n",
    "x_series = [x_func(t) for t in time_series]\n",
    "\n",
    "plt.plot(time_series, x_series, label = \"x(t)\")\n",
    "plt.plot(time_series, v_series, label = \"v(t)\")\n",
    "plt.plot(time_series, i_conv_a_series, label = \"$(i*a)(t)$\")\n",
    "plt.legend()\n",
    "print(f\"final x position: {x_series[-1]:.3f}\")\n",
    "plt.show()"
   ]
  },
  {
   "cell_type": "markdown",
   "metadata": {},
   "source": [
    "Let's make two observations.\n",
    "\n",
    "First, note that nonzero acceleration values are no longer a constant magnitude. $a(t)$ is now a more complicated piecewise function. This means that the [classic \"constant acceleration\" formulas](https://www.khanacademy.org/science/physics/one-dimensional-motion/kinematic-formulas/a/what-are-the-kinematic-formulas) for computing position no longer hold. To extract position accurately, we must integrate.\n",
    "\n",
    "Next, note that the two positions don't necessarily end up in the same place after the same amount of time. The position resulting from the integrated convoluted acceleration signal still has extra distance to go before it reaches the same spot as the simulation with the constant acceleration. (There **might** (?) be a way to fix this so that moves don't get stretched out over more time(?), but since our natural frequencies are on the orders of 20-100hz, we're not really adding much time here.)"
   ]
  },
  {
   "cell_type": "markdown",
   "metadata": {},
   "source": [
    "# comparing x(t) generated in many ways\n",
    "\n",
    "Now lets compare (1) the original $x(t)$ signal, (2) the $\\int \\int(i * a)(t)$ signal, and (3) the $(i * x)(t)$ signal."
   ]
  },
  {
   "cell_type": "code",
   "execution_count": 8,
   "metadata": {},
   "outputs": [
    {
     "data": {
      "image/png": "[encoded data removed]",
      "text/plain": [
       "<Figure size 432x288 with 1 Axes>"
      ]
     },
     "metadata": {
      "needs_background": "light"
     },
     "output_type": "display_data"
    }
   ],
   "source": [
    "# Convolve impulse sequence with position signal.\n",
    "\n",
    "# Position as a \n",
    "# some helper constants\n",
    "x_at_one_third_time = initial_position + initial_velocity * (t_final/3 - t_initial) + sp.Rational(1, 2)*accel*(t_final/3 - t_initial)**2\n",
    "v_at_one_third_time = accel*(t_final/3 - t_initial) + initial_velocity\n",
    "x_at_two_third_time = x_at_one_third_time + v_at_one_third_time*(2*t_final/3 - t_final/3)\n",
    "v_at_two_third_time = v_at_one_third_time\n",
    "x_of_t_const_a = sp.Piecewise(\n",
    "    (initial_position + initial_velocity * t + sp.Rational(1, 2)*accel*t**2,\n",
    "         t < t_final/3),\n",
    "    (x_at_one_third_time + v_at_one_third_time*(t - t_final/3),\n",
    "         t < (2*t_final/3)),\n",
    "    (x_at_two_third_time + v_at_two_third_time * (t - 2*t_final/3) + sp.Rational(1, 2)*-accel*(t - 2*t_final/3)**2,\n",
    "         True))\n",
    "\n",
    "\n",
    "# Convolve impulse sequence with our piecewise function using our \"fast convolution\" method.\n",
    "i_conv_x_of_t = impulse_amplitudes[0]*x_of_t_const_a.subs(t, t - impulse_times[0]) + \\\n",
    "                impulse_amplitudes[1]*x_of_t_const_a.subs(t, t - impulse_times[1])\n",
    "\n",
    "x_func_const_a = sp.lambdify(t, x_of_t_const_a)\n",
    "i_conv_x_func = sp.lambdify(t, i_conv_x_of_t)\n",
    "i_conv_x_series = [i_conv_x_func(t) for t in time_series]\n",
    "x_series_const_a = [x_func_const_a(t) for t in time_series]\n",
    "\n",
    "\n",
    "plt.plot(time_series, i_conv_x_series, label = \"$(i*x)(t)$\")\n",
    "plt.plot(time_series, x_series_const_a, label = \"$x(t)$\")\n",
    "plt.plot(time_series, x_series, label=\"$x(t)$ from $\\int \\int (i * a)(t)$\")\n",
    "\n",
    "plt.legend()\n",
    "plt.show()"
   ]
  },
  {
   "cell_type": "markdown",
   "metadata": {},
   "source": [
    "The above results show that $\\int \\int (i*a)(t)$ is equivalent to $(i*x)(t)$. It also shows how the convolved signal differs in shape from the original signal $x(t)$ with constant acceleration. Given the equivalence, we can convolve whatever signal is more convenient for us and the results will be the same--nifty!"
   ]
  },
  {
   "cell_type": "markdown",
   "metadata": {},
   "source": [
    "# Making Use of the Findings\n",
    "\n",
    "The above writeup shows us that we can basically use our original \"constant acceleration\" functions and simply convolve the original $x(t)$ with our impulse sequence $i(t)$ to get a new position function, $x_s(t)$, which has been \"shaped\" to reduce ringing.\n",
    "\n",
    "To make use of this function, $x_s(t)$, we would actually want to compute the inverse, $x_s^{-1}(t)$. That is to say, since our stepper motor can only step a fixed amount, which sends us through a fixed distance in our \"move\" sequence, we want to calculate the wait time until the next step. Unfortunately, getting an analytical solution to $x_s^{-1}(t)$ is hard. That's because even though we can compute $x(t)$ analytically, convolving $x(t)$ with our impulse sequence $i(t)$ means we actually have to compute this inverse:  $x_s^{-1}(t) = \\left( i(t) * x(t) \\right)^{-1}$.\n",
    "\n",
    "So the alternative would be to compute $t$ using an iterative solver like Newton's Method. This solver requires only that we know $x_s(t)$ and $v_s(t)$ for any time $t$, which we do. It then uses these values to step towards some $t_i$ for a specified input $x_i$.\n",
    "\n",
    "In short, we cannot easily compute $x_s^{-1}(t)$ analytically. So the next easiest way to compute it would be to get a really good approximation with an iterative solver."
   ]
  },
  {
   "cell_type": "markdown",
   "metadata": {},
   "source": [
    "# Input Shaping in Multiple Dimensions\n",
    "\n",
    "Educated guess here...\n",
    "\n",
    "Since X and Y motion are orthogonal to each other, we should be able to calculate two natural frequencies (from pure X and pure Y motion) and then apply a unique correction for X and Y. The result will be a vector sum that cancels out linear combinations of vibrations in any XY direction. "
   ]
  },
  {
   "cell_type": "code",
   "execution_count": 54,
   "metadata": {},
   "outputs": [],
   "source": [
    "class Move(object):\n",
    "    \"\"\"A line segment move.\n",
    "    A single move is given entry/exit velocitys and planned with a profile to:\n",
    "        1. Accelerate from entry velocity up to the cruise velocity\n",
    "        2. Cruise\n",
    "        3. Decelerate to the exit velocity\n",
    "    \n",
    "    Note: velocities will never exceed the cruise velocity.\n",
    "    Note: all time calculations below are done relative to this move only. \n",
    "        i.e: this move starts at t=0\n",
    "    \"\"\"\n",
    "    v_cruise = 10.0 # mm/sec\n",
    "    accel = 5.0 # mm/(sec^2)\n",
    "    \n",
    "    def __init__(self, v_initial, v_final, start_pos, end_pos, constant_velocity=False):\n",
    "        \"\"\"init\n",
    "        param constant_velocity: a flag telling us to hold velocity constant throughout the entire move.\n",
    "            v_initial and v_final must also be the same.\n",
    "        \"\"\"\n",
    "        assert all(((v_initial <= self.v_cruise), \n",
    "                    (v_final <= self.v_cruise))), \\\n",
    "                   \"Error: desired move velocities exceed the cruise velocity!\"\n",
    "        self.v_initial = v_initial # entry velocity\n",
    "        self.v_final = v_final # exit velocity\n",
    "        self.positions = (start_pos, end_pos)\n",
    "        self.constant_velocity = constant_velocity\n",
    "        \n",
    "        self.move_distance = np.sqrt((self.positions[0][0]  - self.positions[1][0])**2 +\n",
    "                            (self.positions[0][1] - self.positions[1][1])**2)\n",
    "        self.t_move_end = None\n",
    "        self.t_cruise_start = None\n",
    "        self.t_cruise_end = None\n",
    "        self.v_max = None\n",
    "        self._compute_move_profile_times()\n",
    "        \n",
    "    def _compute_move_profile_times(self):\n",
    "        \"\"\"Compute the times where velocity is increasing, constant, and decreasing.\n",
    "        i.e: self.t_cruise_start, self.t_cruise_end, self.t_move_end\n",
    "        \"\"\"\n",
    "        # Case 1: 1 region. Velocity constant throughout.\n",
    "        if self.constant_velocity and np.allclose(self.v_initial, self.v_final):\n",
    "            self.t_move_end = self.move_distances/self.v_cruise\n",
    "            self.t_cruise_start = 0\n",
    "            self.t_cruise_end = self.move_distance / self.v_cruise\n",
    "            self.v_max = self.v_cruise\n",
    "            return\n",
    "        \n",
    "        # line intersect v_accel(t) with v_cruise(t) and v_cruise(t) with v_decel(t).\n",
    "        accel_region_distance = (self.v_cruise**2 - self.v_initial**2)/(2*self.accel)\n",
    "        decel_region_distance = (self.v_cruise**2 - self.v_final**2)/(2*self.accel)\n",
    "        # Case 2: 2 regions. No cruise region. accel/decel_region_distances above are invalid \n",
    "        if (accel_region_distance + decel_region_distance) >= self.move_distance:\n",
    "            self.no_cruise_region = True\n",
    "            # (v_max, t_max) intersection point comes from solving system of eqns from\n",
    "            # (1) increasing velocity eqn, (2) decreasing velocity eqn, (3) total distance traveled eqn.\n",
    "            # Once we have v_max, t_max can be computed by plugging in v_max elsewhere.\n",
    "            self.v_max = np.sqrt(4 * self.accel * self.move_distance + 2*self.v_final**2 + 2*self.v_initial**2)/2\n",
    "            t_max = (self.v_max - self.v_initial)/self.accel\n",
    "            self.t_cruise_start = t_max # Set such that later eqns resolve nicely.\n",
    "            self.t_cruise_end = t_max\n",
    "            accel_region_distance = (self.v_max + self.v_initial)/2*self.t_cruise_start\n",
    "            decel_region_distance = self.move_distance - accel_region_distance\n",
    "            self.t_move_end = t_max - (self.v_final - self.v_max)/self.accel # minus since a is negative\n",
    "            return\n",
    "        \n",
    "        # General: 3 distinct regions. Accelerating, Cruising, Decelerating\n",
    "        cruise_distance = self.move_distance - accel_region_distance - decel_region_distance\n",
    "        self.t_cruise_start = (self.v_cruise - self.v_initial)/self.accel\n",
    "        print(f\"t_cruise_start: {self.t_cruise_start}\")\n",
    "        self.t_cruise_end = self.t_cruise_start + cruise_distance/self.v_cruise\n",
    "        print(f\"t_cruise_end: {self.t_cruise_end}\")\n",
    "        decel_interval = -(self.v_final - self.v_cruise)/self.accel\n",
    "        self.t_move_end = self.t_cruise_end + decel_interval\n",
    "        self.v_max = self.v_cruise\n",
    "        return\n",
    "    \n",
    "\n",
    "    def get_position(self, t, ignore_bounds=False):\n",
    "        \"\"\"Return the position in the move as a function of time\"\"\"\n",
    "        if (not ignore_bounds) and (t > self.t_move_end or t < 0):\n",
    "            raise IndexError(f\"position at time {t} is out of bounds.\")\n",
    "            \n",
    "        # General Case: 3 veloctiy profiles\n",
    "        # 1st Region case\n",
    "        if t < self.t_cruise_start:\n",
    "            return self.v_initial*t + 0.5*self.accel*t**2\n",
    "\n",
    "        # 2nd Region case. Should not evaluate if no cruise region.\n",
    "        if t < self.t_cruise_end:\n",
    "            return (self.v_max**2 - self.v_initial**2)/(2*self.accel) + \\\n",
    "                (t - self.t_cruise_start)*self.v_max\n",
    "\n",
    "        # 3rd Region case\n",
    "        position = 0\n",
    "        position += (self.v_max**2 - self.v_initial**2)/(2*self.accel)\n",
    "        position += self.v_max*(self.t_cruise_end - self.t_cruise_start) # 0 if no cruise region.\n",
    "        delta_t = (t - self.t_cruise_end)\n",
    "        position += self.v_max*delta_t - 0.5*self.accel*delta_t**2\n",
    "        return position\n",
    "    \n",
    "    def get_velocity(self, t, ignore_bounds = False):\n",
    "        \"\"\"Return the velocity at time t\"\"\"\n",
    "        if (not ignore_bounds) and (t > self.t_move_end or t < 0):\n",
    "            raise IndexError(f\"velocity at time {t} is out of bounds.\")\n",
    "            \n",
    "        # General Case: 3 veloctiy profiles\n",
    "        # 1st Region case\n",
    "        if t < self.t_cruise_start:\n",
    "            return self.v_initial + self.accel*t\n",
    "\n",
    "        # 2nd Region case. Should not evaluate if no cruise region.\n",
    "        if t < self.t_cruise_end:\n",
    "            return self.v_max\n",
    "\n",
    "        # 3rd Region case\n",
    "        return self.v_max - self.accel*(t - self.t_cruise_end)\n",
    "    \n",
    "    def get_acceleration(self, t, ignore_bounds = False):\n",
    "        \"\"\"Return the acceleration at time t\"\"\"\n",
    "        if (not ignore_bounds) and (t > self.t_move_end or t < 0):\n",
    "            raise IndexError(f\"acceleration at time {t} is out of bounds.\")\n",
    "            \n",
    "        # General Case: 3 veloctiy profiles\n",
    "        # 1st Region case\n",
    "        if t < self.t_cruise_start:\n",
    "            return self.accel\n",
    "\n",
    "        # 2nd Region case. Should not evaluate if no cruise region.\n",
    "        if t < self.t_cruise_end:\n",
    "            return 0\n",
    "\n",
    "        # 3rd Region case\n",
    "        return -self.accel\n",
    "    \n",
    "    def get_time_at_pos(self, x):\n",
    "        \"\"\"compute t = x^(-1)(x) directly to retrieve the time for a given position\"\"\"\n",
    "        # TODO: compute these up-front.\n",
    "        cruise_region_start = self.get_position(self.t_cruise_start)\n",
    "        cruise_region_end = self.get_position(self.t_cruise_end)\n",
    "        \n",
    "        if x < cruise_region_start:\n",
    "            return 0 # TODO: compute. Choose root.\n",
    "        if x < cruise_region_end:\n",
    "            return 0 # TODO: compute\n",
    "        # Default:\n",
    "            return 0 # TODO: compute. Choose root.\n",
    "            \n",
    "    \n",
    "    def get_time_at_pos_newton(self, x, t_i=None):\n",
    "        \"\"\"for a given x location and initial time guess t_i, computes inverse function to approximate the time\n",
    "            at which we reach the desired position.\"\"\"\n",
    "        epsilon = 1e-7 # 100 nanoseconds\n",
    "\n",
    "        # division-by-zero checks: any case where v(t) could equal zero.\n",
    "        # Since we specify entry and exit velocities >= 0, check their corresponding positions.\n",
    "        if np.allclose(x, 0):\n",
    "            return 0\n",
    "\n",
    "        if np.allclose(x, self.move_distance):\n",
    "            print(\"close to end of move. Exiting.\")\n",
    "            return self.t_move_end\n",
    "\n",
    "        # Make a valid non-zero guess.\n",
    "        # Weight the guess closer to the beginning of the time range\n",
    "        # since we usually call this function without a guess near t=0.\n",
    "        if t_i == None:\n",
    "            t_i = 0.1*self.move_distance/self.v_max\n",
    "            print(f\"seed guess: {t_i}\")\n",
    "            \n",
    "        # We can't guess t_i = 0 or the iterative solver denominator blows up.            \n",
    "        if np.allclose(t_i, 0):\n",
    "            t_i = 10*epsilon\n",
    "            print(\"avoid divide by zero snafu\")\n",
    "        \n",
    "        # General case: successivly better Taylor Approximations via Newton's Method\n",
    "        error = np.inf\n",
    "        epsilon = 1e-7\n",
    "        iterations = 0\n",
    "        while abs(error) > epsilon:\n",
    "            iterations+=1\n",
    "            # t_{i+1} = t_i + (x - x(t_i))/x'(t_i)\n",
    "            t_new = t_i + (x - self.get_position(t_i, ignore_bounds=True))/\\\n",
    "                           self.get_velocity(t_i, ignore_bounds=True)\n",
    "            error = t_new - t_i\n",
    "            t_i = t_new\n",
    "        #print(f\"total iterations: {iterations}\")\n",
    "        return t_i\n",
    "\n",
    "    \n",
    "    @classmethod\n",
    "    def set_cruise_velocity(cls, v):\n",
    "        \"\"\"Set the global cruise velocity\"\"\"\n",
    "        assert v > 0, \"Cannot set cruise velocity to a negative value.\"\n",
    "        cls.cruise_velocity = v\n",
    "        \n",
    "    @classmethod\n",
    "    def set_accel(cls, a):\n",
    "        \"\"\"Set the nominal constant acceleration value.\"\"\"\n",
    "        assert a > 0, \"Cannot set nominal acceleration to a negative value\"\n",
    "        cls.accel = a"
   ]
  },
  {
   "cell_type": "code",
   "execution_count": 58,
   "metadata": {},
   "outputs": [
    {
     "name": "stdout",
     "output_type": "stream",
     "text": [
      "t_cruise_start: 2.0\n",
      "t_cruise_end: 5.0\n"
     ]
    },
    {
     "data": {
      "image/png": "[encoded data removed]",
      "text/plain": [
       "<Figure size 432x288 with 1 Axes>"
      ]
     },
     "metadata": {
      "needs_background": "light"
     },
     "output_type": "display_data"
    }
   ],
   "source": [
    "my_move = Move(0, 0.0, (0.0, 0.0), (50, 0.0))\n",
    "time_series = np.arange(0, my_move.t_move_end, 0.01)\n",
    "dist_series = [my_move.get_position(t) for t in time_series]\n",
    "velocity_series = [my_move.get_velocity(t) for t in time_series]\n",
    "plt.plot(time_series, dist_series, label = \"segment distance vs time\")\n",
    "plt.plot(time_series, velocity_series, label = \"segment velocity vs time\")\n",
    "plt.legend()\n",
    "plt.show()"
   ]
  },
  {
   "cell_type": "markdown",
   "metadata": {},
   "source": [
    "# Time from Position.\n",
    "Let's try to reproduce the same graph of $x(t)$ above by computing the function inverse."
   ]
  },
  {
   "cell_type": "code",
   "execution_count": 57,
   "metadata": {},
   "outputs": [
    {
     "name": "stdout",
     "output_type": "stream",
     "text": [
      "seed guess: 0.5\n"
     ]
    },
    {
     "data": {
      "image/png": "[encoded data removed]",
      "text/plain": [
       "<Figure size 432x288 with 1 Axes>"
      ]
     },
     "metadata": {
      "needs_background": "light"
     },
     "output_type": "display_data"
    }
   ],
   "source": [
    "# Recalculate the position curve above by computing the function inverse.\n",
    "dist_series = np.arange(0, 50, 0.01)\n",
    "time_series = []\n",
    "for index in range(len(dist_series)):\n",
    "    # Use the previous time as a guess to seed the next answer.\n",
    "    # Avoid cases where any guess would produce division-by-zero (v(guess) = 0)\n",
    "    if np.allclose(dist_series[index], 0) or np.allclose(dist_series[index-1], 0):\n",
    "        time_series.append(my_move.get_time_at_pos_newton(dist_series[index]))\n",
    "        continue\n",
    "    time_series.append(my_move.get_time_at_pos_newton(dist_series[index], time_series[index - 1]))\n",
    "\n",
    "plt.plot(time_series, dist_series, label = \"segment distance vs time\")\n",
    "plt.legend()\n",
    "plt.show()"
   ]
  },
  {
   "cell_type": "markdown",
   "metadata": {},
   "source": [
    "# References\n",
    "\n",
    "### Input Shaping\n",
    "* [Underdamped Harmonic Oscillator Eqns](https://rotorlab.tamu.edu/me617/ME617_Examples_1DOF_transient_response.pdf)\n",
    "* [Input Shaping Tutorial](http://code.eng.buffalo.edu/tdf/papers/acc_tut.pdf)\n",
    "* [Control of Gantry Crane Using Input Shaping Schemes with Distributed Delay](https://core.ac.uk/download/pdf/322385879.pdf)\n",
    "* [Input Shaping Design for Flexible Systems with Multiple Actuators](https://citeseerx.ist.psu.edu/viewdoc/download?doi=10.1.1.49.4930&rep=rep1&type=pdf)\n",
    "\n",
    "\n",
    "### Motion Control\n",
    "* [GRBL Motion Planner Source Code](https://github.com/grbl/grbl/blob/master/grbl/planner.c)\n",
    "* [Klipper Kinematics](https://github.com/KevinOConnor/klipper/blob/master/docs/Kinematics.md)\n",
    "\n",
    "\n",
    "### Math\n",
    "* [1D Kinematics Formulas for constant Acceleration](https://www.khanacademy.org/science/physics/one-dimensional-motion/kinematic-formulas/a/what-are-the-kinematic-formulas)\n",
    "* [Root Solving with Newton's Method](https://en.wikipedia.org/wiki/Newton%27s_method#Description)\n",
    "* [Exponential Fitting with Python](https://stackoverflow.com/questions/3433486/how-to-do-exponential-and-logarithmic-curve-fitting-in-python-i-found-only-poly) (unused)\n"
   ]
  },
  {
   "cell_type": "code",
   "execution_count": null,
   "metadata": {},
   "outputs": [],
   "source": []
  }
 ],
 "metadata": {
  "kernelspec": {
   "display_name": "Python 3",
   "language": "python",
   "name": "python3"
  },
  "language_info": {
   "codemirror_mode": {
    "name": "ipython",
    "version": 3
   },
   "file_extension": ".py",
   "mimetype": "text/x-python",
   "name": "python",
   "nbconvert_exporter": "python",
   "pygments_lexer": "ipython3",
   "version": "3.6.12"
  }
 },
 "nbformat": 4,
 "nbformat_minor": 4
}
