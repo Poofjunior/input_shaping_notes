{
 "cells": [
  {
   "cell_type": "code",
   "execution_count": 1,
   "metadata": {},
   "outputs": [],
   "source": [
    "# Environment Setup\n",
    "import numpy as np\n",
    "import sympy as sp\n",
    "import matplotlib.pyplot as plt\n",
    "sp.init_printing()"
   ]
  },
  {
   "cell_type": "markdown",
   "metadata": {},
   "source": [
    "# Move Kinematics\n",
    "\n",
    "Every move has a target \"entry\" and \"exit\" velocity that we must keep when entering or exiting the move. Within this move, the velocity can be anything. It makes sense to maximize the time spent cruising at a target upper bound on velocity, which we call the \"cruise velocity.\" Spending the most time here means our overall series of paths that we're trying to execute are executing as quickly as possible while respecting the physical acceleration limits we apply to the machine.\n",
    "\n",
    "## General Case\n",
    "To follow a trapezoidal velocity profile, we actually have 3 move regions.\n",
    "\n",
    "When accelerating, we follow\n",
    "$$\n",
    "x_a(t) = x_0 + v_0t + \\frac{1}{2}at^2\n",
    "$$\n",
    "When cruising, we follow:\n",
    "$$\n",
    "x_c(t) = x_0 + v_0t\n",
    "$$\n",
    "When decelerating, our starting position is now wherever we finished off after cruising, our starting velocity is our cruise velocity, and our starting $a$ flips from positive to negative from our accelerating equation. If $a$ is a constant, we get:\n",
    "$$\n",
    "x_d(t) = x_{cf} + v_ct - \\frac{1}{2}at^2\n",
    "$$\n",
    "\n"
   ]
  },
  {
   "cell_type": "markdown",
   "metadata": {},
   "source": [
    "## \"Short Move\" Case\n",
    "Some moves are so short, the machine carriage never has enough time to get to the cruise velocity. In that case, we just do our best. Since we'll be planning two regions, we need to know when (or equivalently at what position) they intersect.\n",
    "\n",
    "The cell below solves for the max velocity when we never have a cruise region."
   ]
  },
  {
   "cell_type": "code",
   "execution_count": 2,
   "metadata": {},
   "outputs": [
    {
     "data": {
      "image/png": "[encoded data removed]",
      "text/latex": [
       "$\\displaystyle \\frac{\\sqrt{4 a x_{f} + 2 v_{f}^{2} + 2 v_{i}^{2}}}{2}$"
      ],
      "text/plain": [
       "   __________________________\n",
       "  ╱                2       2 \n",
       "╲╱  4⋅a⋅x_f + 2⋅v_f  + 2⋅vᵢ  \n",
       "─────────────────────────────\n",
       "              2              "
      ]
     },
     "metadata": {},
     "output_type": "display_data"
    }
   ],
   "source": [
    "t_i, t_m, t_f, v_i, v_m, v_f, v_c, x_f, t, a = sp.symbols('t_i, t_m, t_f, v_i, v_m, v_f, v_c, x_f, t, a')\n",
    "\n",
    "x_f_fn = v_i*t_m + sp.Rational(1,2)*a*t_m**2 + v_m*(t_f - t_m) - sp.Rational(1,2)*a*(t_f - t_m)**2 - x_f\n",
    "v_max_fn = v_i + a*t_m - v_m\n",
    "v_f_fn = v_m - a*(t_f-t_m) - v_f\n",
    "\n",
    "# We get two solutions. For positive a, v_i, and v_f (which will always be true), we want the first solution\n",
    "solns = sp.solve([x_f_fn, v_max_fn, v_f_fn], t_f, v_m, t_m)\n",
    "\n",
    "t_final, v_max, t_max = solns[0]\n",
    "givens = {v_f: 1,\n",
    "          v_i: 1,\n",
    "          x_f: 1,\n",
    "          a: 10}\n",
    "#display(t_final.subs(givens).evalf())\n",
    "#display(v_max.subs(givens).evalf())\n",
    "#display(t_max.subs(givens).evalf())\n",
    "\n",
    "display(v_max)"
   ]
  },
  {
   "cell_type": "markdown",
   "metadata": {},
   "source": [
    "## X inverses\n",
    "The above kinematics equations give us x as a function of time. But since stepper motors can only move in discrete position steps, we actually want time as a function of the next possible position. That means we need the inverse function for all three regions."
   ]
  },
  {
   "cell_type": "markdown",
   "metadata": {},
   "source": [
    "## Calculating Time Analytically\n",
    "Each region gets its own equation."
   ]
  },
  {
   "cell_type": "markdown",
   "metadata": {},
   "source": [
    "The cruise region is easy since acceleration is zero and our equation is a line."
   ]
  },
  {
   "cell_type": "code",
   "execution_count": 3,
   "metadata": {},
   "outputs": [
    {
     "data": {
      "image/png": "[encoded data removed]",
      "text/latex": [
       "$\\displaystyle \\left[ \\frac{x - x_{i}}{v_{c}}\\right]$"
      ],
      "text/plain": [
       "⎡x - xᵢ⎤\n",
       "⎢──────⎥\n",
       "⎣ v_c  ⎦"
      ]
     },
     "execution_count": 3,
     "metadata": {},
     "output_type": "execute_result"
    }
   ],
   "source": [
    "x, x_i, v_cruise, t = sp.symbols('x, x_i, v_c, t')\n",
    "sp.solve(x_i + v_cruise*t - x, t)"
   ]
  },
  {
   "cell_type": "markdown",
   "metadata": {},
   "source": [
    "The regions where we're accelerating/decelerating have two solutions, but only one is valid (where $t \\ge 0$).\n",
    "\n",
    "For the accelerating region, we get:"
   ]
  },
  {
   "cell_type": "code",
   "execution_count": 64,
   "metadata": {
    "scrolled": true
   },
   "outputs": [
    {
     "data": {
      "image/png": "[encoded data removed]",
      "text/latex": [
       "$\\displaystyle \\left[ - \\frac{v_{i}}{a} + \\frac{\\sqrt{2 a x + v_{i}^{2}}}{a}, \\  - \\frac{v_{i}}{a} - \\frac{\\sqrt{2 a x + v_{i}^{2}}}{a}\\right]$"
      ],
      "text/plain": [
       "⎡          _____________            _____________⎤\n",
       "⎢         ╱           2            ╱           2 ⎥\n",
       "⎢  vᵢ   ╲╱  2⋅a⋅x + vᵢ      vᵢ   ╲╱  2⋅a⋅x + vᵢ  ⎥\n",
       "⎢- ── + ────────────────, - ── - ────────────────⎥\n",
       "⎣  a           a            a           a        ⎦"
      ]
     },
     "metadata": {},
     "output_type": "display_data"
    },
    {
     "data": {
      "image/png": "[encoded data removed]",
      "text/plain": [
       "<Figure size 432x288 with 1 Axes>"
      ]
     },
     "metadata": {
      "needs_background": "light"
     },
     "output_type": "display_data"
    }
   ],
   "source": [
    "x, x_i, v_i = sp.symbols('x, x_i, v_i')\n",
    "a = sp.symbols('a', positive=True)\n",
    "v_cruise = sp.symbols('v_c', positive=True)\n",
    "t = sp.symbols('t', positive=True, real=True)\n",
    "\n",
    "givens = {x_i: 0}\n",
    "t_eqns = list(sp.solveset((x_i + v_i*t + sp.Rational(1,2)*a*t**2 - x).subs(givens), t))\n",
    "display(t_eqns)\n",
    "\n",
    "givens = {a: 5,\n",
    "          v_i: 0,\n",
    "          v_cruise: 10,\n",
    "          x_i: 0}\n",
    "#t_eqns = list()\n",
    "t_eqn1 = sp.lambdify(x, t_eqns[0].subs(givens))\n",
    "t_eqn2 = sp.lambdify(x, t_eqns[1].subs(givens))\n",
    "\n",
    "pos_series = np.arange(0, 10., 0.01)\n",
    "t_eqn1_series = [t_eqn1(x) for x in pos_series]\n",
    "t_eqn2_series = [t_eqn2(x) for x in pos_series]\n",
    "\n",
    "plt.plot(pos_series, t_eqn1_series, label = \"t_eqn1 vs pos\")\n",
    "plt.plot(pos_series, t_eqn2_series, label=\"t_eqn2 vs pos\")\n",
    "plt.legend()\n",
    "plt.show()"
   ]
  },
  {
   "cell_type": "markdown",
   "metadata": {},
   "source": [
    "Here, we can see that we want to take the first eqn, where $t$ is strictly positive.\n",
    "\n",
    "\n",
    "For the decelerating region, we get:"
   ]
  },
  {
   "cell_type": "code",
   "execution_count": 65,
   "metadata": {},
   "outputs": [
    {
     "data": {
      "image/png": "[encoded data removed]",
      "text/latex": [
       "$\\displaystyle \\left[ \\frac{v_{c}}{a} + \\frac{\\sqrt{- 2 a x + v_{c}^{2}}}{a}, \\  \\frac{v_{c}}{a} - \\frac{\\sqrt{- 2 a x + v_{c}^{2}}}{a}\\right]$"
      ],
      "text/plain": [
       "⎡         _______________           _______________⎤\n",
       "⎢        ╱             2           ╱             2 ⎥\n",
       "⎢v_c   ╲╱  -2⋅a⋅x + v_c    v_c   ╲╱  -2⋅a⋅x + v_c  ⎥\n",
       "⎢─── + ──────────────────, ─── - ──────────────────⎥\n",
       "⎣ a            a            a            a         ⎦"
      ]
     },
     "metadata": {},
     "output_type": "display_data"
    },
    {
     "data": {
      "image/png": "[encoded data removed]",
      "text/plain": [
       "<Figure size 432x288 with 1 Axes>"
      ]
     },
     "metadata": {
      "needs_background": "light"
     },
     "output_type": "display_data"
    }
   ],
   "source": [
    "givens = {x_i: 0}\n",
    "t_eqns = list(sp.solveset((x_i + v_cruise*t - sp.Rational(1,2)*a*t**2 - x).subs(givens), t))\n",
    "display(t_eqns)\n",
    "\n",
    "givens = {a: 5, # minus sign is in the eqn.\n",
    "          v_i: 0,\n",
    "          v_cruise: 10,\n",
    "          x_i: 0}\n",
    "t_eqn1 = sp.lambdify(x, t_eqns[0].subs(givens))\n",
    "t_eqn2 = sp.lambdify(x, t_eqns[1].subs(givens))\n",
    "\n",
    "pos_series = np.arange(0, 10., 0.01)\n",
    "t_eqn1_series = [t_eqn1(x) for x in pos_series]\n",
    "t_eqn2_series = [t_eqn2(x) for x in pos_series]\n",
    "\n",
    "plt.plot(pos_series, t_eqn1_series, label = \"t_eqn1 vs pos\")\n",
    "plt.plot(pos_series, t_eqn2_series, label=\"t_eqn2 vs pos\")\n",
    "plt.legend()\n",
    "plt.show()"
   ]
  },
  {
   "cell_type": "markdown",
   "metadata": {},
   "source": [
    "Here we want to take the second equation, which is defined from $t=0$ to $t=2$."
   ]
  },
  {
   "cell_type": "markdown",
   "metadata": {},
   "source": [
    "We can put all of this together into a Move Class now."
   ]
  },
  {
   "cell_type": "code",
   "execution_count": 66,
   "metadata": {},
   "outputs": [],
   "source": [
    "class Move(object):\n",
    "    \"\"\"A 1D line segment move.\n",
    "    A single move is given entry/exit velocitys and planned with a profile to:\n",
    "        1. Accelerate from entry velocity up to the cruise velocity\n",
    "        2. Cruise\n",
    "        3. Decelerate to the exit velocity\n",
    "    \n",
    "    Note: velocities will never exceed the cruise velocity.\n",
    "    Note: all time calculations below are done relative to this move only. \n",
    "        i.e: this move starts at t=0\n",
    "    \"\"\"\n",
    "    v_cruise = 10.0 # mm/sec\n",
    "    accel = 5.0 # mm/(sec^2)\n",
    "    STEP_DIST = 1.0/200\n",
    "    \n",
    "    def __init__(self, v_initial, v_final, start_pos, end_pos, constant_velocity=False):\n",
    "        \"\"\"init\n",
    "        param constant_velocity: a flag telling us to hold velocity constant throughout the entire move.\n",
    "            v_initial and v_final must also be the same.\n",
    "        \"\"\"\n",
    "        assert all(((v_initial <= self.v_cruise), \n",
    "                    (v_final <= self.v_cruise))), \\\n",
    "                   \"Error: desired move velocities exceed the cruise velocity!\"\n",
    "        self.v_initial = v_initial # entry velocity\n",
    "        self.v_final = v_final # exit velocity\n",
    "        self.positions = (start_pos, end_pos)\n",
    "        self.constant_velocity = constant_velocity\n",
    "        \n",
    "        self.move_distance = np.sqrt((self.positions[0][0]  - self.positions[1][0])**2 +\n",
    "                            (self.positions[0][1] - self.positions[1][1])**2)\n",
    "        \n",
    "        # These get defined in _compute_move_profile_times\n",
    "        self.t_move_end = None\n",
    "        self.t_cruise_start = None\n",
    "        self.t_cruise_end = None\n",
    "        self.v_max = None\n",
    "        self._compute_move_profile_times()\n",
    "        \n",
    "        \n",
    "    def _compute_move_profile_times(self):\n",
    "        \"\"\"Compute the times where velocity is increasing, constant, and decreasing.\n",
    "        i.e: self.t_cruise_start, self.t_cruise_end, self.t_move_end\n",
    "        \"\"\"\n",
    "        # Case 1: 1 region. Velocity constant throughout.\n",
    "        if self.constant_velocity and np.allclose(self.v_initial, self.v_final):\n",
    "            self.t_move_end = self.move_distances/self.v_cruise\n",
    "            self.t_cruise_start = 0\n",
    "            self.t_cruise_end = self.move_distance / self.v_cruise\n",
    "            self.v_max = self.v_cruise\n",
    "            return\n",
    "        \n",
    "        # line intersect v_accel(t) with v_cruise(t) and v_cruise(t) with v_decel(t).\n",
    "        accel_region_distance = (self.v_cruise**2 - self.v_initial**2)/(2*self.accel)\n",
    "        decel_region_distance = (self.v_cruise**2 - self.v_final**2)/(2*self.accel)\n",
    "        # Case 2: 2 regions. No cruise region. accel/decel_region_distances above are invalid \n",
    "        if (accel_region_distance + decel_region_distance) >= self.move_distance:\n",
    "            self.no_cruise_region = True\n",
    "            # (v_max, t_max) intersection point comes from solving system of eqns from\n",
    "            # (1) increasing velocity eqn, (2) decreasing velocity eqn, (3) total distance traveled eqn.\n",
    "            # Once we have v_max, t_max can be computed by plugging in v_max elsewhere.\n",
    "            self.v_max = np.sqrt(4 * self.accel * self.move_distance + 2*self.v_final**2 + 2*self.v_initial**2)/2\n",
    "            t_max = (self.v_max - self.v_initial)/self.accel\n",
    "            self.t_cruise_start = t_max # Set such that later eqns resolve nicely.\n",
    "            self.t_cruise_end = t_max\n",
    "            accel_region_distance = (self.v_max + self.v_initial)/2*self.t_cruise_start\n",
    "            decel_region_distance = self.move_distance - accel_region_distance\n",
    "            self.t_move_end = t_max - (self.v_final - self.v_max)/self.accel # minus since a is negative\n",
    "            return\n",
    "        \n",
    "        # General: 3 distinct regions. Accelerating, Cruising, Decelerating\n",
    "        cruise_distance = self.move_distance - accel_region_distance - decel_region_distance\n",
    "        self.t_cruise_start = (self.v_cruise - self.v_initial)/self.accel\n",
    "        print(f\"t_cruise_start: {self.t_cruise_start}\")\n",
    "        self.t_cruise_end = self.t_cruise_start + cruise_distance/self.v_cruise\n",
    "        print(f\"t_cruise_end: {self.t_cruise_end}\")\n",
    "        decel_interval = -(self.v_final - self.v_cruise)/self.accel\n",
    "        self.t_move_end = self.t_cruise_end + decel_interval\n",
    "        self.v_max = self.v_cruise\n",
    "        return\n",
    "    \n",
    "    def get_total_move_time(self):\n",
    "        return self.t_move_end\n",
    "    \n",
    "\n",
    "    def get_position(self, t, ignore_bounds=False):\n",
    "        \"\"\"Return the position in the move as a function of time\"\"\"\n",
    "        if (not ignore_bounds) and (t > self.t_move_end or t < 0):\n",
    "            raise IndexError(f\"position at time {t} is out of bounds.\")\n",
    "        # out-of-bounds case: return 0\n",
    "        # TODO: will we need to readjust if we have multiple planned moves in a sequence?\n",
    "        if t < 0:\n",
    "            return 0\n",
    "        \n",
    "        # General Case: 3 veloctiy profiles\n",
    "        # 1st Region case\n",
    "        if t < self.t_cruise_start:\n",
    "            return self.v_initial*t + 0.5*self.accel*t**2\n",
    "\n",
    "        # 2nd Region case. Should not evaluate if no cruise region.\n",
    "        if t < self.t_cruise_end:\n",
    "            return (self.v_max**2 - self.v_initial**2)/(2*self.accel) + \\\n",
    "                (t - self.t_cruise_start)*self.v_max\n",
    "\n",
    "        # 3rd Region case\n",
    "        if t < self.t_move_end:\n",
    "            position = 0\n",
    "            position += (self.v_max**2 - self.v_initial**2)/(2*self.accel)\n",
    "            position += self.v_max*(self.t_cruise_end - self.t_cruise_start) # 0 if no cruise region.\n",
    "            delta_t = (t - self.t_cruise_end)\n",
    "            position += self.v_max*delta_t - 0.5*self.accel*delta_t**2\n",
    "            return position\n",
    "        \n",
    "        # out-of-bounds case: return final position.\n",
    "        # TODO: will we need to readjust if we have multiple planned moves in a sequence?\n",
    "        delta_t = (self.t_move_end - self.t_cruise_end)\n",
    "        final_pos =  (self.v_max**2 - self.v_initial**2)/(2*self.accel) + \\\n",
    "                      self.v_max*(self.t_cruise_end - self.t_cruise_start) + \\\n",
    "                      self.v_max*delta_t - 0.5*self.accel*delta_t**2\n",
    "        return final_pos + (t - self.t_move_end)*self.v_final\n",
    "    \n",
    "    def get_velocity(self, t, ignore_bounds = False):\n",
    "        \"\"\"Return the velocity at time t\"\"\"\n",
    "        if (not ignore_bounds) and (t > self.t_move_end or t < 0):\n",
    "            raise IndexError(f\"velocity at time {t} is out of bounds.\")\n",
    "        \n",
    "        # out of bounds case:\n",
    "        if t < 0:\n",
    "            return self.v_initial\n",
    "        \n",
    "        # General Case: 3 velocity profiles\n",
    "        # 1st Region case\n",
    "        if t < self.t_cruise_start:\n",
    "            return self.v_initial + self.accel*t\n",
    "\n",
    "        # 2nd Region case. Should not evaluate if no cruise region.\n",
    "        if t < self.t_cruise_end:\n",
    "            return self.v_max\n",
    "\n",
    "        # 3rd Region case\n",
    "        if t < self.t_move_end:\n",
    "            return self.v_max - self.accel*(t - self.t_cruise_end)\n",
    "        # out of bounds case\n",
    "        return self.v_final\n",
    "    \n",
    "    def get_time_at_pos_newton(self, x, t_i=None):\n",
    "        \"\"\"for a given x location and initial time guess t_i, computes inverse function to approximate the time\n",
    "            at which we reach the desired position.\"\"\"\n",
    "        if t_i is not None:\n",
    "            assert t_i > 0, \"Error: initial guess must be greater than zero.\" \n",
    "        epsilon = 1e-7 # 100 nanoseconds\n",
    "        error = np.inf\n",
    "        iterations = 0\n",
    "\n",
    "\n",
    "        # division-by-zero checks: any case where v(t) could equal zero.\n",
    "        # Since we specify entry and exit velocities >= 0, check their corresponding positions.\n",
    "        if np.allclose(x, 0, atol=self.STEP_DIST/2.0):\n",
    "            return 0\n",
    "\n",
    "        #if np.allclose(x, self.move_distance):\n",
    "        #    print(\"close to end of move. Exiting.\")\n",
    "        #    return self.t_move_end\n",
    "\n",
    "        # Make a valid non-zero guess.\n",
    "        # Weight the guess closer to the beginning of the time range\n",
    "        # since we usually call this function without a guess near t=0.\n",
    "        if t_i == None:\n",
    "            t_i = 0.1*self.move_distance/self.v_max\n",
    "            print(f\"seed guess: {t_i}\")\n",
    "            \n",
    "        # We can't guess t_i = 0 or the iterative solver denominator blows up.            \n",
    "        if np.allclose(t_i, 0, atol=0.01):\n",
    "            t_i += 10*epsilon\n",
    "            print(\"avoid divide by zero snafu\")\n",
    "            \n",
    "        # Special case: near the extremes we must use binary search\n",
    "        #if np.allclose(self.move_distance, x, atol=0.01):\n",
    "        #    upper_bound = self.move_distance\n",
    "        #    lower_bound = 0\n",
    "        #    # Binary search.\n",
    "        #    while abs(error) > epsilon:\n",
    "        #        iterations +=1\n",
    "        #        # Search\n",
    "        #        x_at_t_i = self.get_position(t_i, ignore_bounds=True)\n",
    "        #        error = x - x_at_t_i\n",
    "        #        if error > 0:\n",
    "        #            lower_bound = t_i\n",
    "        #        else:\n",
    "        #            upper_bound = t_i\n",
    "        #        t_i = (upper_bound - lower_bound)/2.0 + lower_bound\n",
    "        #        print(f\"iteration: {iterations} | l: {lower_bound :.3f} | t_i: {t_i} |  u: {upper_bound :.3f}\")\n",
    "\n",
    "        #        if iterations > 25:\n",
    "        #            print(\"oops\")\n",
    "        #            return -1\n",
    "        #    return t_i\n",
    "\n",
    "        \n",
    "        # General case: Newton-Raphson Method\n",
    "        while abs(error) > epsilon:\n",
    "            iterations+=1\n",
    "            # Since we've defined get_position and get_velocity to have defined values outside\n",
    "            # the normal time window, ignoring the bounds gives results that don't blow up near the extremes.\n",
    "            x_at_t_i = self.get_position(t_i, ignore_bounds=True)\n",
    "            v_at_t_i = self.get_velocity(t_i, ignore_bounds=True)\n",
    "            # Newton-Raphson Method\n",
    "            t_new = t_i + (x - x_at_t_i)/v_at_t_i\n",
    "            error = t_new - t_i\n",
    "            t_i = t_new\n",
    "            # Stats:\n",
    "            #print(f\"iteration: {iterations} | t_new: {t_new :.7f} | error: {error :.7f} | x(ti): {x_at_t_i :.7f} | v(ti): {v_at_t_i :.7f}\")\n",
    "        return t_i\n",
    "\n",
    "    \n",
    "    # Note: these methods should be called before creating any class instances.\n",
    "    @classmethod\n",
    "    def set_cruise_velocity(cls, v):\n",
    "        \"\"\"Set the global cruise velocity\"\"\"\n",
    "        assert v > 0, \"Cannot set cruise velocity to a negative value.\"\n",
    "        cls.v_cruise = v\n",
    "        \n",
    "    @classmethod\n",
    "    def set_accel(cls, a):\n",
    "        \"\"\"Set the nominal constant acceleration value.\"\"\"\n",
    "        assert a > 0, \"Cannot set nominal acceleration to a negative value\"\n",
    "        cls.accel = a\n",
    "        \n",
    "# TODO: consider removing ignore_bounds flag."
   ]
  },
  {
   "cell_type": "code",
   "execution_count": 67,
   "metadata": {},
   "outputs": [
    {
     "name": "stdout",
     "output_type": "stream",
     "text": [
      "t_cruise_start: 2.0\n",
      "t_cruise_end: 5.0\n"
     ]
    },
    {
     "data": {
      "image/png": "[encoded data removed]",
      "text/plain": [
       "<Figure size 432x288 with 1 Axes>"
      ]
     },
     "metadata": {
      "needs_background": "light"
     },
     "output_type": "display_data"
    }
   ],
   "source": [
    "my_move = Move(0.0, 0.0, (0.0, 0.0), (50, 0.0))\n",
    "time_series = np.arange(0, my_move.t_move_end, 0.01)\n",
    "dist_series = [my_move.get_position(t) for t in time_series]\n",
    "velocity_series = [my_move.get_velocity(t) for t in time_series]\n",
    "plt.plot(time_series, dist_series, label = \"segment distance vs time\")\n",
    "plt.plot(time_series, velocity_series, label = \"segment velocity vs time\")\n",
    "plt.legend()\n",
    "plt.show()"
   ]
  },
  {
   "cell_type": "markdown",
   "metadata": {},
   "source": [
    "## Calculating Position with Newton's Method\n",
    "\n",
    "Newton's method is an iterative method that let's us approximate a differentiable function with better-and-better guesses. If, for some reason, we can't compute the inverse analytically, Newton's Method is a pretty fast way of finding the inverse."
   ]
  },
  {
   "cell_type": "code",
   "execution_count": 68,
   "metadata": {},
   "outputs": [
    {
     "name": "stdout",
     "output_type": "stream",
     "text": [
      "seed guess: 0.5\n"
     ]
    },
    {
     "data": {
      "image/png": "[encoded data removed]",
      "text/plain": [
       "<Figure size 432x288 with 1 Axes>"
      ]
     },
     "metadata": {
      "needs_background": "light"
     },
     "output_type": "display_data"
    }
   ],
   "source": [
    "# Recalculate the position curve above by computing the function inverse.\n",
    "dist_series = np.arange(0, 50., 0.005) # 0.005 is 1/200 th of a mm\n",
    "time_series = []\n",
    "for index in range(len(dist_series)):\n",
    "    # Use the previous time as a guess to seed the next answer.\n",
    "    # Avoid cases where any guess would produce division-by-zero (v(guess) = 0)\n",
    "    if np.allclose(dist_series[index], 0) or np.allclose(dist_series[index-1], 0):\n",
    "        time_series.append(my_move.get_time_at_pos_newton(dist_series[index]))\n",
    "        continue\n",
    "    time_series.append(my_move.get_time_at_pos_newton(dist_series[index], time_series[index - 1]))\n",
    "\n",
    "plt.plot(time_series, dist_series, label = \"segment distance vs time\")\n",
    "plt.legend()\n",
    "plt.show()"
   ]
  },
  {
   "cell_type": "code",
   "execution_count": 69,
   "metadata": {},
   "outputs": [],
   "source": [
    "class ShapedMove(Move):\n",
    "    \n",
    "    def __init__(self, v_initial, v_final, start_pos, end_pos, constant_velocity=False):\n",
    "        super().__init__(v_initial, v_final, start_pos, end_pos, constant_velocity)\n",
    "        self.impulse_amplitudes = [0.4, 0.6]\n",
    "        self.impulse_times = [0.0, 0.025]\n",
    "        \n",
    "        # t_move_end needs to be recalculated and stored elsewhere\n",
    "        # since it is used in get_position and get_velocity calcs.\n",
    "        # Either recalculate with Newton-Raphson Method or analytically.\n",
    "        #self.shaped_t_move_end = self.get_time_at_pos_newton(self.move_distance, self.t_move_end)\n",
    "        self.shaped_t_move_end = self.impulse_times[1] + self.t_move_end\n",
    "\n",
    "    def get_position(self, t, ignore_bounds=True):\n",
    "        # Note: we have defined the original get_position() to behave nicely when\n",
    "        # asked for out-of-bounds requests.\n",
    "        # i.e: get_position(t<0) = 0, get_position(t>t_move_end) = final position + (t-t_move_end)*v_final.\n",
    "        p = 0\n",
    "        for amplitude, pulse_time in zip(self.impulse_amplitudes, self.impulse_times):\n",
    "            p += amplitude*super().get_position(t - pulse_time, ignore_bounds=ignore_bounds)\n",
    "        #print()\n",
    "        return p\n",
    "    \n",
    "    def get_velocity(self, t, ignore_bounds=True):\n",
    "        # ignore_bounds ignored but preserved to match function signature.\n",
    "        # TODO: should we get rid of ignore_bounds altogether?\n",
    "        v = 0\n",
    "        for amplitude, pulse_time in zip(self.impulse_amplitudes, self.impulse_times):\n",
    "            #if t - pulse_time < 0: #or t - pulse_time > self.t_move_end:\n",
    "                # Skip. if t < 0, signal value contribution is 0.\n",
    "            #    continue\n",
    "            v += amplitude*super().get_velocity(t - pulse_time, ignore_bounds=ignore_bounds)\n",
    "        return v\n",
    "    \n",
    "    def get_total_move_time(self):\n",
    "        return self.shaped_t_move_end\n"
   ]
  },
  {
   "cell_type": "code",
   "execution_count": 70,
   "metadata": {},
   "outputs": [
    {
     "data": {
      "image/png": "[encoded data removed]",
      "text/plain": [
       "<Figure size 432x288 with 1 Axes>"
      ]
     },
     "metadata": {
      "needs_background": "light"
     },
     "output_type": "display_data"
    }
   ],
   "source": [
    "Move.set_accel(30)\n",
    "Move.set_cruise_velocity(10)\n",
    "ShapedMove.set_accel(30)\n",
    "ShapedMove.set_cruise_velocity(10)\n",
    "my_move = Move(0.0, 1.0, (0.0, 0.0), (2, 0.0))\n",
    "my_shaped_move = ShapedMove(0.0, 1.0, (0.0, 0.0), (2, 0.0))\n",
    "\n",
    "sm_time_series = np.arange(0, my_shaped_move.get_total_move_time(), 0.001)\n",
    "sm_dist_series = [my_shaped_move.get_position(t) for t in sm_time_series]\n",
    "sm_velocity_series = [my_shaped_move.get_velocity(t) for t in sm_time_series]\n",
    "\n",
    "time_series = np.arange(0, my_move.get_total_move_time(), 0.001)\n",
    "dist_series = [my_move.get_position(t) for t in time_series]\n",
    "velocity_series = [my_move.get_velocity(t) for t in time_series]\n",
    "\n",
    "plt.plot(time_series, dist_series, label = \"$x(t)$\")\n",
    "plt.plot(time_series, velocity_series, label = \"$v(t)$\")\n",
    "plt.plot(sm_time_series, sm_dist_series, label = \"$(i*x)(t)$\")\n",
    "plt.plot(sm_time_series, sm_velocity_series, label = \"$(i*v)(t)$\")\n",
    "plt.legend()\n",
    "plt.show()"
   ]
  },
  {
   "cell_type": "markdown",
   "metadata": {},
   "source": [
    "Now let's use our convolved position and velocity functions to calculate the inverse function, which gives us the time between steps."
   ]
  },
  {
   "cell_type": "code",
   "execution_count": 71,
   "metadata": {},
   "outputs": [
    {
     "name": "stdout",
     "output_type": "stream",
     "text": [
      "seed guess: 0.025819888974716113\n"
     ]
    },
    {
     "data": {
      "image/png": "[encoded data removed]",
      "text/plain": [
       "<Figure size 432x288 with 1 Axes>"
      ]
     },
     "metadata": {
      "needs_background": "light"
     },
     "output_type": "display_data"
    }
   ],
   "source": [
    "# Recalculate the convolved position curve above by computing the function inverse.\n",
    "ShapedMove.set_accel(30)\n",
    "ShapedMove.set_cruise_velocity(10)\n",
    "my_shaped_move = ShapedMove(0.0, 0.0, (0.0, 0.0), (2, 0.0))\n",
    "\n",
    "dist_series = np.arange(0, 2.0, 0.005) # 0.005 is 1/200 th of a mm\n",
    "time_series = []\n",
    "for index in range(len(dist_series)):\n",
    "    # Use the previous time as a guess to seed the next answer.\n",
    "    # Avoid cases where any guess would produce division-by-zero (v(guess) = 0)\n",
    "    if np.allclose(dist_series[index], 0) or np.allclose(dist_series[index-1], 0):\n",
    "        time_series.append(my_shaped_move.get_time_at_pos_newton(dist_series[index]))\n",
    "        continue\n",
    "    time_series.append(my_shaped_move.get_time_at_pos_newton(dist_series[index], time_series[index - 1]))\n",
    "\n",
    "plt.plot(time_series, dist_series, label = \"$(i*x)(t)$ vs time\")\n",
    "plt.legend()\n",
    "plt.show()"
   ]
  },
  {
   "cell_type": "markdown",
   "metadata": {},
   "source": [
    "# References\n",
    "\n",
    "### Motion Control\n",
    "* [GRBL Motion Planner Source Code](https://github.com/grbl/grbl/blob/master/grbl/planner.c)\n",
    "* [Klipper Kinematics](https://github.com/KevinOConnor/klipper/blob/master/docs/Kinematics.md)\n",
    "\n",
    "\n",
    "### Math\n",
    "* [1D Kinematics Formulas for constant Acceleration](https://www.khanacademy.org/science/physics/one-dimensional-motion/kinematic-formulas/a/what-are-the-kinematic-formulas)\n",
    "* [Root Solving with Newton's Method](https://en.wikipedia.org/wiki/Newton%27s_method#Description)\n",
    "* [Exponential Fitting with Python](https://stackoverflow.com/questions/3433486/how-to-do-exponential-and-logarithmic-curve-fitting-in-python-i-found-only-poly) (unused)\n",
    "\n",
    "### Python\n",
    "* [Split a Class into Multiple Cells](https://stackoverflow.com/questions/45161393/jupyter-split-classes-in-multiple-cells/45161859)"
   ]
  },
  {
   "cell_type": "code",
   "execution_count": null,
   "metadata": {},
   "outputs": [],
   "source": []
  }
 ],
 "metadata": {
  "kernelspec": {
   "display_name": "Python 3",
   "language": "python",
   "name": "python3"
  },
  "language_info": {
   "codemirror_mode": {
    "name": "ipython",
    "version": 3
   },
   "file_extension": ".py",
   "mimetype": "text/x-python",
   "name": "python",
   "nbconvert_exporter": "python",
   "pygments_lexer": "ipython3",
   "version": "3.6.12"
  }
 },
 "nbformat": 4,
 "nbformat_minor": 4
}
