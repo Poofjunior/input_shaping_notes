{
 "cells": [
  {
   "cell_type": "code",
   "execution_count": 1,
   "metadata": {},
   "outputs": [],
   "source": [
    "# Environment Setup\n",
    "import numpy as np\n",
    "import sympy as sp\n",
    "import matplotlib.pyplot as plt\n",
    "sp.init_printing()"
   ]
  },
  {
   "cell_type": "markdown",
   "metadata": {},
   "source": [
    "# Move Kinematics\n",
    "\n",
    "Every move has a target \"entry\" and \"exit\" velocity that we must keep when entering or exiting the move. Within this move, the velocity can be anything. It makes sense to maximize the time spent cruising at a target upper bound on velocity, which we call the \"cruise velocity.\" Spending the most time here means our overall series of paths that we're trying to execute are executing as quickly as possible while respecting the physical acceleration limits we apply to the machine.\n",
    "\n",
    "## General Case\n",
    "To follow a trapezoidal velocity profile, we actually have 3 move regions.\n",
    "\n",
    "When accelerating, we follow\n",
    "$$\n",
    "x_a(t) = x_0 + v_0t + \\frac{1}{2}at^2\n",
    "$$\n",
    "When cruising, we follow:\n",
    "$$\n",
    "x_c(t) = x_0 + v_0t\n",
    "$$\n",
    "When decelerating, our starting position is now wherever we finished off after cruising, our starting velocity is our cruise velocity, and our starting $a$ flips from positive to negative from our accelerating equation. If $a$ is a constant, we get:\n",
    "$$\n",
    "x_d(t) = x_{cf} + v_ct - \\frac{1}{2}at^2\n",
    "$$\n",
    "\n"
   ]
  },
  {
   "cell_type": "markdown",
   "metadata": {},
   "source": [
    "## \"Short Move\" Case\n",
    "Some moves are so short, the machine carriage never has enough time to get to the cruise velocity. In that case, we just do our best. Since we'll be planning two regions, we need to know when (or equivalently at what position) they intersect.\n",
    "\n",
    "The cell below solves for the max velocity when we never have a cruise region."
   ]
  },
  {
   "cell_type": "code",
   "execution_count": 2,
   "metadata": {},
   "outputs": [
    {
     "data": {
      "image/png": "[encoded data removed]",
      "text/latex": [
       "$\\displaystyle \\frac{\\sqrt{4 a x_{f} + 2 v_{f}^{2} + 2 v_{i}^{2}}}{2}$"
      ],
      "text/plain": [
       "   __________________________\n",
       "  ╱                2       2 \n",
       "╲╱  4⋅a⋅x_f + 2⋅v_f  + 2⋅vᵢ  \n",
       "─────────────────────────────\n",
       "              2              "
      ]
     },
     "metadata": {},
     "output_type": "display_data"
    }
   ],
   "source": [
    "t_i, t_m, t_f, v_i, v_m, v_f, v_c, x_f, t, a = sp.symbols('t_i, t_m, t_f, v_i, v_m, v_f, v_c, x_f, t, a')\n",
    "\n",
    "x_f_fn = v_i*t_m + sp.Rational(1,2)*a*t_m**2 + v_m*(t_f - t_m) - sp.Rational(1,2)*a*(t_f - t_m)**2 - x_f\n",
    "v_max_fn = v_i + a*t_m - v_m\n",
    "v_f_fn = v_m - a*(t_f-t_m) - v_f\n",
    "\n",
    "# We get two solutions. For positive a, v_i, and v_f (which will always be true), we want the first solution\n",
    "solns = sp.solve([x_f_fn, v_max_fn, v_f_fn], t_f, v_m, t_m)\n",
    "\n",
    "t_final, v_max, t_max = solns[0]\n",
    "givens = {v_f: 1,\n",
    "          v_i: 1,\n",
    "          x_f: 1,\n",
    "          a: 10}\n",
    "#display(t_final.subs(givens).evalf())\n",
    "#display(v_max.subs(givens).evalf())\n",
    "#display(t_max.subs(givens).evalf())\n",
    "\n",
    "display(v_max)"
   ]
  },
  {
   "cell_type": "markdown",
   "metadata": {},
   "source": [
    "## X inverses\n",
    "The above kinematics equations give us x as a function of time. But since stepper motors can only move in discrete position steps, we actually want time as a function of the next possible position. That means we need the inverse function for all three regions."
   ]
  },
  {
   "cell_type": "markdown",
   "metadata": {},
   "source": [
    "The cruise region is easy since acceleration is zero and our equation is a line."
   ]
  },
  {
   "cell_type": "code",
   "execution_count": 3,
   "metadata": {},
   "outputs": [
    {
     "data": {
      "image/png": "[encoded data removed]",
      "text/latex": [
       "$\\displaystyle \\left[ \\frac{x - x_{i}}{v_{c}}\\right]$"
      ],
      "text/plain": [
       "⎡x - xᵢ⎤\n",
       "⎢──────⎥\n",
       "⎣ v_c  ⎦"
      ]
     },
     "execution_count": 3,
     "metadata": {},
     "output_type": "execute_result"
    }
   ],
   "source": [
    "x, x_i, v_cruise, t = sp.symbols('x, x_i, v_c, t')\n",
    "sp.solve(x_i + v_cruise*t - x, t)"
   ]
  },
  {
   "cell_type": "markdown",
   "metadata": {},
   "source": [
    "The regions where we're accelerating/decelerating have two solutions, but only one is valid (where $t \\ge 0$).\n",
    "\n",
    "For the accelerating region, we get:"
   ]
  },
  {
   "cell_type": "code",
   "execution_count": 31,
   "metadata": {},
   "outputs": [
    {
     "data": {
      "image/png": "[encoded data removed]",
      "text/latex": [
       "$\\displaystyle \\left[ - \\frac{v_{i}}{a} + \\frac{\\sqrt{2 a x + v_{i}^{2}}}{a}, \\  - \\frac{v_{i}}{a} - \\frac{\\sqrt{2 a x + v_{i}^{2}}}{a}\\right]$"
      ],
      "text/plain": [
       "⎡          _____________            _____________⎤\n",
       "⎢         ╱           2            ╱           2 ⎥\n",
       "⎢  vᵢ   ╲╱  2⋅a⋅x + vᵢ      vᵢ   ╲╱  2⋅a⋅x + vᵢ  ⎥\n",
       "⎢- ── + ────────────────, - ── - ────────────────⎥\n",
       "⎣  a           a            a           a        ⎦"
      ]
     },
     "metadata": {},
     "output_type": "display_data"
    },
    {
     "data": {
      "image/png": "[encoded data removed]",
      "text/plain": [
       "<Figure size 432x288 with 1 Axes>"
      ]
     },
     "metadata": {
      "needs_background": "light"
     },
     "output_type": "display_data"
    }
   ],
   "source": [
    "x, x_i, v_i = sp.symbols('x, x_i, v_i')\n",
    "a = sp.symbols('a', positive=True)\n",
    "v_cruise = sp.symbols('v_c', positive=True)\n",
    "t = sp.symbols('t', positive=True, real=True)\n",
    "\n",
    "givens = {x_i: 0}\n",
    "t_eqns = list(sp.solveset((x_i + v_i*t + sp.Rational(1,2)*a*t**2 - x).subs(givens), t))\n",
    "display(t_eqns)\n",
    "\n",
    "givens = {a: 5,\n",
    "          v_i: 0,\n",
    "          v_cruise: 10,\n",
    "          x_i: 0}\n",
    "#t_eqns = list()\n",
    "t_eqn1 = sp.lambdify(x, t_eqns[0].subs(givens))\n",
    "t_eqn2 = sp.lambdify(x, t_eqns[1].subs(givens))\n",
    "\n",
    "pos_series = np.arange(0, 10, 0.01)\n",
    "t_eqn1_series = [t_eqn1(x) for x in pos_series]\n",
    "t_eqn2_series = [t_eqn2(x) for x in pos_series]\n",
    "\n",
    "plt.plot(pos_series, t_eqn1_series, label = \"t_eqn1 vs pos\")\n",
    "plt.plot(pos_series, t_eqn2_series, label=\"t_eqn2 vs pos\")\n",
    "plt.legend()\n",
    "plt.show()"
   ]
  },
  {
   "cell_type": "markdown",
   "metadata": {},
   "source": [
    "Here, we can see that we want to take the first eqn, where $t$ is strictly positive.\n",
    "\n",
    "\n",
    "For the decelerating region, we get:"
   ]
  },
  {
   "cell_type": "code",
   "execution_count": 34,
   "metadata": {
    "scrolled": true
   },
   "outputs": [
    {
     "data": {
      "image/png": "[encoded data removed]",
      "text/latex": [
       "$\\displaystyle \\left[ \\frac{v_{c}}{a} + \\frac{\\sqrt{- 2 a x + v_{c}^{2}}}{a}, \\  \\frac{v_{c}}{a} - \\frac{\\sqrt{- 2 a x + v_{c}^{2}}}{a}\\right]$"
      ],
      "text/plain": [
       "⎡         _______________           _______________⎤\n",
       "⎢        ╱             2           ╱             2 ⎥\n",
       "⎢v_c   ╲╱  -2⋅a⋅x + v_c    v_c   ╲╱  -2⋅a⋅x + v_c  ⎥\n",
       "⎢─── + ──────────────────, ─── - ──────────────────⎥\n",
       "⎣ a            a            a            a         ⎦"
      ]
     },
     "metadata": {},
     "output_type": "display_data"
    },
    {
     "data": {
      "image/png": "[encoded data removed]",
      "text/plain": [
       "<Figure size 432x288 with 1 Axes>"
      ]
     },
     "metadata": {
      "needs_background": "light"
     },
     "output_type": "display_data"
    }
   ],
   "source": [
    "givens = {x_i: 0}\n",
    "t_eqns = list(sp.solveset((x_i + v_cruise*t - sp.Rational(1,2)*a*t**2 - x).subs(givens), t))\n",
    "display(t_eqns)\n",
    "\n",
    "givens = {a: 5, # minus sign is in the eqn.\n",
    "          v_i: 0,\n",
    "          v_cruise: 10,\n",
    "          x_i: 0}\n",
    "t_eqn1 = sp.lambdify(x, t_eqns[0].subs(givens))\n",
    "t_eqn2 = sp.lambdify(x, t_eqns[1].subs(givens))\n",
    "\n",
    "pos_series = np.arange(0, 10.01, 0.01)\n",
    "t_eqn1_series = [t_eqn1(x) for x in pos_series]\n",
    "t_eqn2_series = [t_eqn2(x) for x in pos_series]\n",
    "\n",
    "plt.plot(pos_series, t_eqn1_series, label = \"t_eqn1 vs pos\")\n",
    "plt.plot(pos_series, t_eqn2_series, label=\"t_eqn2 vs pos\")\n",
    "plt.legend()\n",
    "plt.show()"
   ]
  },
  {
   "cell_type": "markdown",
   "metadata": {},
   "source": [
    "Here we want to take the second equation, which is defined from $t=0$ to $t=2$."
   ]
  },
  {
   "cell_type": "code",
   "execution_count": null,
   "metadata": {},
   "outputs": [],
   "source": []
  }
 ],
 "metadata": {
  "kernelspec": {
   "display_name": "Python 3",
   "language": "python",
   "name": "python3"
  },
  "language_info": {
   "codemirror_mode": {
    "name": "ipython",
    "version": 3
   },
   "file_extension": ".py",
   "mimetype": "text/x-python",
   "name": "python",
   "nbconvert_exporter": "python",
   "pygments_lexer": "ipython3",
   "version": "3.6.12"
  }
 },
 "nbformat": 4,
 "nbformat_minor": 4
}
