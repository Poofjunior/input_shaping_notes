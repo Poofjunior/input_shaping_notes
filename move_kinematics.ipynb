{
 "cells": [
  {
   "cell_type": "code",
   "execution_count": 1,
   "metadata": {},
   "outputs": [],
   "source": [
    "# Environment Setup\n",
    "import numpy as np\n",
    "import sympy as sp\n",
    "import matplotlib.pyplot as plt"
   ]
  },
  {
   "cell_type": "markdown",
   "metadata": {},
   "source": [
    "# Move Kinematics\n",
    "\n",
    "Every move has a target \"entry\" and \"exit\" velocity that we must keep when entering or exiting the move. Within this move, the velocity can be anything. It makes sense to maximize the time spent cruising at a target upper bound on velocity, which we call the \"cruise velocity.\" Spending the most time here means our overall series of paths that we're trying to execute are executing as quickly as possible while respecting the physical acceleration limits we apply to the machine.\n",
    "\n",
    "## General Case\n",
    "To follow a trapezoidal velocity profile, we actually have 3 move regions.\n",
    "\n",
    "When accelerating, we follow\n",
    "$$\n",
    "x_a(t) = x_0 + v_0t + \\frac{1}{2}at^2\n",
    "$$\n",
    "When cruising, we follow:\n",
    "$$\n",
    "x_c(t) = x_0 + v_0t\n",
    "$$\n",
    "When decelerating, $a$ just flips from positive to negative from our accelerating equation. If $a$ is a constant, we get:\n",
    "$$\n",
    "x_d(t) = x_0 + v_0t - \\frac{1}{2}at^2\n",
    "$$\n",
    "\n"
   ]
  },
  {
   "cell_type": "markdown",
   "metadata": {},
   "source": [
    "## \"Short Move\" Case\n",
    "Some moves are so short, the machine carriage never has enough time to get to the cruise velocity. In that case, we just do our best."
   ]
  },
  {
   "cell_type": "code",
   "execution_count": 67,
   "metadata": {},
   "outputs": [
    {
     "data": {
      "text/latex": [
       "$\\displaystyle \\frac{\\sqrt{4 a x_{f} + 2 v_{f}^{2} + 2 v_{i}^{2}}}{2}$"
      ],
      "text/plain": [
       "sqrt(4*a*x_f + 2*v_f**2 + 2*v_i**2)/2"
      ]
     },
     "metadata": {},
     "output_type": "display_data"
    }
   ],
   "source": [
    "t_i, t_m, t_f, v_i, v_m, v_f, v_c, x_f, t, a = sp.symbols('t_i, t_m, t_f, v_i, v_m, v_f, v_c, x_f, t, a')\n",
    "\n",
    "x_f_fn = v_i*t_m + sp.Rational(1,2)*a*t_m**2 + v_m*(t_f - t_m) - sp.Rational(1,2)*a*(t_f - t_m)**2 - x_f\n",
    "v_max_fn = v_i + a*t_m - v_m\n",
    "v_f_fn = v_m - a*(t_f-t_m) - v_f\n",
    "\n",
    "# We get two solutions. For positive a, v_i, and v_f (which will always be true), we want the first solution\n",
    "solns = sp.solve([x_f_fn, v_max_fn, v_f_fn], t_f, v_m, t_m)\n",
    "\n",
    "t_final, v_max, t_max = solns[0]\n",
    "givens = {v_f: 1,\n",
    "          v_i: 1,\n",
    "          x_f: 1,\n",
    "          a: 10}\n",
    "#display(t_final.subs(givens).evalf())\n",
    "#display(v_max.subs(givens).evalf())\n",
    "#display(t_max.subs(givens).evalf())\n",
    "\n",
    "display(v_max)"
   ]
  },
  {
   "cell_type": "code",
   "execution_count": null,
   "metadata": {},
   "outputs": [],
   "source": []
  }
 ],
 "metadata": {
  "kernelspec": {
   "display_name": "Python 3",
   "language": "python",
   "name": "python3"
  },
  "language_info": {
   "codemirror_mode": {
    "name": "ipython",
    "version": 3
   },
   "file_extension": ".py",
   "mimetype": "text/x-python",
   "name": "python",
   "nbconvert_exporter": "python",
   "pygments_lexer": "ipython3",
   "version": "3.6.12"
  }
 },
 "nbformat": 4,
 "nbformat_minor": 4
}
